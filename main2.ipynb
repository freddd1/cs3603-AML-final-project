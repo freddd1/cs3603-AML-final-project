{
 "cells": [
  {
   "cell_type": "code",
   "execution_count": 2,
   "metadata": {
    "collapsed": true
   },
   "outputs": [
    {
     "name": "stdout",
     "output_type": "stream",
     "text": [
      "The autoreload extension is already loaded. To reload it, use:\n",
      "  %reload_ext autoreload\n"
     ]
    }
   ],
   "source": [
    "import warnings\n",
    "import numpy as np\n",
    "import pandas as pd\n",
    "import matplotlib.pyplot as plt\n",
    "from torch.utils.data import DataLoader\n",
    "import transformers\n",
    "%load_ext autoreload\n",
    "%autoreload 2\n",
    "\n",
    "transformers.logging.set_verbosity_error()"
   ]
  },
  {
   "cell_type": "code",
   "execution_count": 3,
   "outputs": [],
   "source": [
    "from utils.seed import set_seed\n",
    "set_seed(17)"
   ],
   "metadata": {
    "collapsed": false,
    "pycharm": {
     "name": "#%%\n"
    }
   }
  },
  {
   "cell_type": "markdown",
   "source": [
    "# Load the data"
   ],
   "metadata": {
    "collapsed": false,
    "pycharm": {
     "name": "#%% md\n"
    }
   }
  },
  {
   "cell_type": "code",
   "execution_count": 4,
   "outputs": [
    {
     "name": "stderr",
     "output_type": "stream",
     "text": [
      "C:\\Users\\itama\\PycharmProjects\\cs3603-AML-final-project\\utils\\data_processing.py:41: SettingWithCopyWarning: \n",
      "A value is trying to be set on a copy of a slice from a DataFrame\n",
      "\n",
      "See the caveats in the documentation: https://pandas.pydata.org/pandas-docs/stable/user_guide/indexing.html#returning-a-view-versus-a-copy\n",
      "  return_df['labels'][df['Overall'] >= cutoff] = 1\n"
     ]
    }
   ],
   "source": [
    "from utils.data_processing import prepre_data_to_model\n",
    "from utils.data_processing import clean_text\n",
    "train_base = prepre_data_to_model('data/semeval8/full_meta_en_train.csv', 'data/semeval8/en_train.csv', cutoff=3, col_text_to_use='title')"
   ],
   "metadata": {
    "collapsed": false,
    "pycharm": {
     "name": "#%%\n"
    }
   }
  },
  {
   "cell_type": "code",
   "execution_count": 5,
   "outputs": [],
   "source": [
    "from nltk.corpus import stopwords\n",
    "from cleantext import clean\n",
    "\n",
    "def clean_text(s):\n",
    "    s = s.lower()\n",
    "    s = clean(text=s)\n",
    "    s = \" \".join([word for word in s.split(' ') if word not in stopwords.words('english')])\n",
    "    return s"
   ],
   "metadata": {
    "collapsed": false,
    "pycharm": {
     "name": "#%%\n"
    }
   }
  },
  {
   "cell_type": "code",
   "execution_count": 6,
   "outputs": [],
   "source": [
    "for col in ['text1', 'text2']:\n",
    "    train_base.loc[:,col] = train_base[col].apply(clean_text)"
   ],
   "metadata": {
    "collapsed": false,
    "pycharm": {
     "name": "#%%\n"
    }
   }
  },
  {
   "cell_type": "code",
   "execution_count": 7,
   "outputs": [
    {
     "data": {
      "text/plain": "((1052, 3), (263, 3))"
     },
     "execution_count": 7,
     "metadata": {},
     "output_type": "execute_result"
    }
   ],
   "source": [
    "from sklearn.model_selection import train_test_split\n",
    "train, val = train_test_split(train_base, test_size=0.2, shuffle=True, random_state=11)\n",
    "train.shape, val.shape"
   ],
   "metadata": {
    "collapsed": false,
    "pycharm": {
     "name": "#%%\n"
    }
   }
  },
  {
   "cell_type": "code",
   "execution_count": 8,
   "outputs": [],
   "source": [
    "# convert the data to SentencesDataset\n",
    "\n",
    "from datasets import SentencesDataset\n",
    "\n",
    "train_ds = SentencesDataset(train.text1.tolist(), train.text1.tolist(), train.labels.tolist())\n",
    "val_ds = SentencesDataset(val.text1.tolist(), val.text1.tolist(), val.labels.tolist())\n"
   ],
   "metadata": {
    "collapsed": false,
    "pycharm": {
     "name": "#%%\n"
    }
   }
  },
  {
   "cell_type": "markdown",
   "source": [
    "# Train"
   ],
   "metadata": {
    "collapsed": false,
    "pycharm": {
     "name": "#%% md\n"
    }
   }
  },
  {
   "cell_type": "code",
   "execution_count": 9,
   "outputs": [],
   "source": [
    "# import torch\n",
    "# from models import tBERT\n",
    "# from transformers import AdamW\n",
    "#\n",
    "# # PARAMETERS\n",
    "#\n",
    "# # train parameters\n",
    "# batch_size = 16\n",
    "# num_epochs = 1\n",
    "# device = torch.device(\"cuda\") if torch.cuda.is_available() else torch.device(\"cpu\")\n",
    "#\n",
    "# # lda parameters\n",
    "# n_topics = 70\n",
    "#\n",
    "# # embedding parameters\n",
    "# max_length = 256\n",
    "#\n",
    "# #optimizer parameters\n",
    "# lr = 5e-5"
   ],
   "metadata": {
    "collapsed": false,
    "pycharm": {
     "name": "#%%\n"
    }
   }
  },
  {
   "cell_type": "code",
   "execution_count": 10,
   "outputs": [],
   "source": [
    "train_dataloader = DataLoader(train_ds, shuffle=True, batch_size=16)\n",
    "val_dataloader = DataLoader(val_ds, shuffle=True, batch_size=16)"
   ],
   "metadata": {
    "collapsed": false,
    "pycharm": {
     "name": "#%%\n"
    }
   }
  },
  {
   "cell_type": "code",
   "execution_count": 11,
   "outputs": [],
   "source": [
    "# from utils.data_processing import create_sentences_corpus\n",
    "#\n",
    "# corpus = create_sentences_corpus(train_dataloader)\n",
    "# model = tBERT(corpus, n_topics=n_topics, max_length=max_length, device=device)\n",
    "#\n",
    "# optimizer = AdamW(model.parameters(), lr=lr)"
   ],
   "metadata": {
    "collapsed": false,
    "pycharm": {
     "name": "#%%\n"
    }
   }
  },
  {
   "cell_type": "code",
   "execution_count": 12,
   "outputs": [],
   "source": [
    "# from trainer import Trainer\n",
    "# trainer = Trainer(model=model, optimizer=optimizer, train_dataloader=train_dataloader, num_epochs=num_epochs, device=device)"
   ],
   "metadata": {
    "collapsed": false,
    "pycharm": {
     "name": "#%%\n"
    }
   }
  },
  {
   "cell_type": "code",
   "execution_count": 13,
   "outputs": [],
   "source": [
    "# trainer.train()"
   ],
   "metadata": {
    "collapsed": false,
    "pycharm": {
     "name": "#%%\n"
    }
   }
  },
  {
   "cell_type": "code",
   "execution_count": 14,
   "outputs": [],
   "source": [
    "# f1_train = trainer.evaluate(train_dataloader)\n",
    "# print(f'{f1_train=}')"
   ],
   "metadata": {
    "collapsed": false,
    "pycharm": {
     "name": "#%%\n"
    }
   }
  },
  {
   "cell_type": "code",
   "execution_count": 29,
   "outputs": [
    {
     "name": "stderr",
     "output_type": "stream",
     "text": [
      "\u001B[32m[I 2022-08-13 22:33:01,224]\u001B[0m A new study created in memory with name: no-name-ff7fac77-5bca-4b48-85be-1066cd38a79d\u001B[0m\n"
     ]
    },
    {
     "data": {
      "text/plain": "  0%|          | 0/396 [00:00<?, ?it/s]",
      "application/vnd.jupyter.widget-view+json": {
       "version_major": 2,
       "version_minor": 0,
       "model_id": "2d2ff81801e24907ab52bd4ef2fc2696"
      }
     },
     "metadata": {},
     "output_type": "display_data"
    },
    {
     "data": {
      "text/plain": "  0%|          | 0/17 [00:00<?, ?it/s]",
      "application/vnd.jupyter.widget-view+json": {
       "version_major": 2,
       "version_minor": 0,
       "model_id": "10e6512fa29a485e83faadca33330ead"
      }
     },
     "metadata": {},
     "output_type": "display_data"
    },
    {
     "name": "stderr",
     "output_type": "stream",
     "text": [
      "\u001B[32m[I 2022-08-13 22:53:04,521]\u001B[0m Trial 0 finished with value: 0.6941176470588235 and parameters: {'embeddings_length': 256, 'lr': 0.0003004260828196086, 'n_topics': 409, 'alpha': 9.713753150857668}. Best is trial 0 with value: 0.6941176470588235.\u001B[0m\n"
     ]
    },
    {
     "data": {
      "text/plain": "  0%|          | 0/396 [00:00<?, ?it/s]",
      "application/vnd.jupyter.widget-view+json": {
       "version_major": 2,
       "version_minor": 0,
       "model_id": "0e0730c69cf74348a8b5794e8ffb9420"
      }
     },
     "metadata": {},
     "output_type": "display_data"
    },
    {
     "data": {
      "text/plain": "  0%|          | 0/17 [00:00<?, ?it/s]",
      "application/vnd.jupyter.widget-view+json": {
       "version_major": 2,
       "version_minor": 0,
       "model_id": "01be74e842f64be2a1b9e87264fe6771"
      }
     },
     "metadata": {},
     "output_type": "display_data"
    },
    {
     "name": "stderr",
     "output_type": "stream",
     "text": [
      "\u001B[32m[I 2022-08-13 23:11:11,881]\u001B[0m Trial 1 finished with value: 0.7241379310344827 and parameters: {'embeddings_length': 512, 'lr': 0.00014058806623887585, 'n_topics': 136, 'alpha': 1.4963001814449983}. Best is trial 1 with value: 0.7241379310344827.\u001B[0m\n"
     ]
    },
    {
     "data": {
      "text/plain": "  0%|          | 0/396 [00:00<?, ?it/s]",
      "application/vnd.jupyter.widget-view+json": {
       "version_major": 2,
       "version_minor": 0,
       "model_id": "a42dca79b0d34696a9418b1bde3d8e7a"
      }
     },
     "metadata": {},
     "output_type": "display_data"
    },
    {
     "data": {
      "text/plain": "  0%|          | 0/17 [00:00<?, ?it/s]",
      "application/vnd.jupyter.widget-view+json": {
       "version_major": 2,
       "version_minor": 0,
       "model_id": "4f604dfbf5dd44e7a3d466bc9c03b59d"
      }
     },
     "metadata": {},
     "output_type": "display_data"
    },
    {
     "name": "stderr",
     "output_type": "stream",
     "text": [
      "\u001B[32m[I 2022-08-13 23:29:20,294]\u001B[0m Trial 2 finished with value: 0.7217630853994491 and parameters: {'embeddings_length': 512, 'lr': 8.377509659876646e-05, 'n_topics': 78, 'alpha': 8.513895211174978}. Best is trial 1 with value: 0.7241379310344827.\u001B[0m\n"
     ]
    },
    {
     "data": {
      "text/plain": "  0%|          | 0/396 [00:00<?, ?it/s]",
      "application/vnd.jupyter.widget-view+json": {
       "version_major": 2,
       "version_minor": 0,
       "model_id": "ee20c1f8675b418d90af2a0029b02581"
      }
     },
     "metadata": {},
     "output_type": "display_data"
    },
    {
     "data": {
      "text/plain": "  0%|          | 0/17 [00:00<?, ?it/s]",
      "application/vnd.jupyter.widget-view+json": {
       "version_major": 2,
       "version_minor": 0,
       "model_id": "a8feecf33934457f916c76389207ab8f"
      }
     },
     "metadata": {},
     "output_type": "display_data"
    },
    {
     "name": "stderr",
     "output_type": "stream",
     "text": [
      "\u001B[32m[I 2022-08-13 23:47:33,192]\u001B[0m Trial 3 finished with value: 0.7217630853994491 and parameters: {'embeddings_length': 256, 'lr': 3.440615632568805e-05, 'n_topics': 90, 'alpha': 7.225009742666275}. Best is trial 1 with value: 0.7241379310344827.\u001B[0m\n"
     ]
    },
    {
     "data": {
      "text/plain": "  0%|          | 0/396 [00:00<?, ?it/s]",
      "application/vnd.jupyter.widget-view+json": {
       "version_major": 2,
       "version_minor": 0,
       "model_id": "af2067bf83dc48ae91976e444a0796a0"
      }
     },
     "metadata": {},
     "output_type": "display_data"
    },
    {
     "data": {
      "text/plain": "  0%|          | 0/17 [00:00<?, ?it/s]",
      "application/vnd.jupyter.widget-view+json": {
       "version_major": 2,
       "version_minor": 0,
       "model_id": "fb259967245b4a4190112165d723f354"
      }
     },
     "metadata": {},
     "output_type": "display_data"
    },
    {
     "name": "stderr",
     "output_type": "stream",
     "text": [
      "\u001B[32m[I 2022-08-14 00:05:48,374]\u001B[0m Trial 4 finished with value: 0.7272727272727273 and parameters: {'embeddings_length': 512, 'lr': 0.00010731976640401343, 'n_topics': 62, 'alpha': 7.561834261404589}. Best is trial 4 with value: 0.7272727272727273.\u001B[0m\n"
     ]
    },
    {
     "data": {
      "text/plain": "  0%|          | 0/396 [00:00<?, ?it/s]",
      "application/vnd.jupyter.widget-view+json": {
       "version_major": 2,
       "version_minor": 0,
       "model_id": "cba97a2e32614318a92ffaaa7616a667"
      }
     },
     "metadata": {},
     "output_type": "display_data"
    },
    {
     "data": {
      "text/plain": "  0%|          | 0/17 [00:00<?, ?it/s]",
      "application/vnd.jupyter.widget-view+json": {
       "version_major": 2,
       "version_minor": 0,
       "model_id": "15d5e0c1a2a844eeacab3050cd425992"
      }
     },
     "metadata": {},
     "output_type": "display_data"
    },
    {
     "name": "stderr",
     "output_type": "stream",
     "text": [
      "\u001B[32m[I 2022-08-14 00:24:51,773]\u001B[0m Trial 5 finished with value: 0.72 and parameters: {'embeddings_length': 256, 'lr': 0.000647617858598015, 'n_topics': 454, 'alpha': 3.0721567702868566}. Best is trial 4 with value: 0.7272727272727273.\u001B[0m\n"
     ]
    },
    {
     "data": {
      "text/plain": "  0%|          | 0/396 [00:00<?, ?it/s]",
      "application/vnd.jupyter.widget-view+json": {
       "version_major": 2,
       "version_minor": 0,
       "model_id": "b93aff572811485b917f684901774a87"
      }
     },
     "metadata": {},
     "output_type": "display_data"
    },
    {
     "data": {
      "text/plain": "  0%|          | 0/17 [00:00<?, ?it/s]",
      "application/vnd.jupyter.widget-view+json": {
       "version_major": 2,
       "version_minor": 0,
       "model_id": "4fa62776de4a4895b6f53af681babab6"
      }
     },
     "metadata": {},
     "output_type": "display_data"
    },
    {
     "name": "stderr",
     "output_type": "stream",
     "text": [
      "\u001B[32m[I 2022-08-14 00:43:34,232]\u001B[0m Trial 6 finished with value: 0.7282913165266107 and parameters: {'embeddings_length': 256, 'lr': 0.00010524774237092511, 'n_topics': 181, 'alpha': 0.8352545807331763}. Best is trial 6 with value: 0.7282913165266107.\u001B[0m\n"
     ]
    },
    {
     "data": {
      "text/plain": "  0%|          | 0/396 [00:00<?, ?it/s]",
      "application/vnd.jupyter.widget-view+json": {
       "version_major": 2,
       "version_minor": 0,
       "model_id": "c15da17dcba94a87a1c82c969679723d"
      }
     },
     "metadata": {},
     "output_type": "display_data"
    },
    {
     "data": {
      "text/plain": "  0%|          | 0/17 [00:00<?, ?it/s]",
      "application/vnd.jupyter.widget-view+json": {
       "version_major": 2,
       "version_minor": 0,
       "model_id": "d5c15e3a290548b0a281585a74efd543"
      }
     },
     "metadata": {},
     "output_type": "display_data"
    },
    {
     "name": "stderr",
     "output_type": "stream",
     "text": [
      "\u001B[32m[I 2022-08-14 01:02:47,470]\u001B[0m Trial 7 finished with value: 0.7598944591029024 and parameters: {'embeddings_length': 256, 'lr': 3.3850264258274384e-05, 'n_topics': 341, 'alpha': 5.643702104432463}. Best is trial 7 with value: 0.7598944591029024.\u001B[0m\n"
     ]
    },
    {
     "data": {
      "text/plain": "  0%|          | 0/396 [00:00<?, ?it/s]",
      "application/vnd.jupyter.widget-view+json": {
       "version_major": 2,
       "version_minor": 0,
       "model_id": "57a2e73ce10b407f8d8358c09e178c53"
      }
     },
     "metadata": {},
     "output_type": "display_data"
    },
    {
     "data": {
      "text/plain": "  0%|          | 0/17 [00:00<?, ?it/s]",
      "application/vnd.jupyter.widget-view+json": {
       "version_major": 2,
       "version_minor": 0,
       "model_id": "d0790c4da41043f4be384614df223212"
      }
     },
     "metadata": {},
     "output_type": "display_data"
    },
    {
     "name": "stderr",
     "output_type": "stream",
     "text": [
      "\u001B[32m[I 2022-08-14 01:22:17,675]\u001B[0m Trial 8 finished with value: 0.7293447293447294 and parameters: {'embeddings_length': 256, 'lr': 0.0002502924734945777, 'n_topics': 402, 'alpha': 2.7236675191941564}. Best is trial 7 with value: 0.7598944591029024.\u001B[0m\n"
     ]
    },
    {
     "data": {
      "text/plain": "  0%|          | 0/396 [00:00<?, ?it/s]",
      "application/vnd.jupyter.widget-view+json": {
       "version_major": 2,
       "version_minor": 0,
       "model_id": "1bdc202eee344210b08fc2f36858d3c7"
      }
     },
     "metadata": {},
     "output_type": "display_data"
    },
    {
     "data": {
      "text/plain": "  0%|          | 0/17 [00:00<?, ?it/s]",
      "application/vnd.jupyter.widget-view+json": {
       "version_major": 2,
       "version_minor": 0,
       "model_id": "638f1c19c55f45249e684b98c51c3a2e"
      }
     },
     "metadata": {},
     "output_type": "display_data"
    },
    {
     "name": "stderr",
     "output_type": "stream",
     "text": [
      "\u001B[32m[I 2022-08-14 01:41:50,308]\u001B[0m Trial 9 finished with value: 0.72 and parameters: {'embeddings_length': 512, 'lr': 4.907345347328649e-05, 'n_topics': 367, 'alpha': 7.231033150368462}. Best is trial 7 with value: 0.7598944591029024.\u001B[0m\n"
     ]
    },
    {
     "data": {
      "text/plain": "  0%|          | 0/396 [00:00<?, ?it/s]",
      "application/vnd.jupyter.widget-view+json": {
       "version_major": 2,
       "version_minor": 0,
       "model_id": "a184631fd03945dabba7c9881e5e87a1"
      }
     },
     "metadata": {},
     "output_type": "display_data"
    },
    {
     "data": {
      "text/plain": "  0%|          | 0/17 [00:00<?, ?it/s]",
      "application/vnd.jupyter.widget-view+json": {
       "version_major": 2,
       "version_minor": 0,
       "model_id": "1dda13b73ae84bb3be884e94b6e02704"
      }
     },
     "metadata": {},
     "output_type": "display_data"
    },
    {
     "name": "stderr",
     "output_type": "stream",
     "text": [
      "\u001B[32m[I 2022-08-14 02:01:12,790]\u001B[0m Trial 10 finished with value: 0.7535545023696683 and parameters: {'embeddings_length': 256, 'lr': 4.2982259862118385e-06, 'n_topics': 252, 'alpha': 4.942100334458563}. Best is trial 7 with value: 0.7598944591029024.\u001B[0m\n"
     ]
    },
    {
     "data": {
      "text/plain": "  0%|          | 0/396 [00:00<?, ?it/s]",
      "application/vnd.jupyter.widget-view+json": {
       "version_major": 2,
       "version_minor": 0,
       "model_id": "bda69521decb430d88c92193869da5ae"
      }
     },
     "metadata": {},
     "output_type": "display_data"
    },
    {
     "data": {
      "text/plain": "  0%|          | 0/17 [00:00<?, ?it/s]",
      "application/vnd.jupyter.widget-view+json": {
       "version_major": 2,
       "version_minor": 0,
       "model_id": "536a3f6b58cc42b9969543350a11c49f"
      }
     },
     "metadata": {},
     "output_type": "display_data"
    },
    {
     "name": "stderr",
     "output_type": "stream",
     "text": [
      "\u001B[32m[I 2022-08-14 02:20:39,386]\u001B[0m Trial 11 finished with value: 0.7535545023696683 and parameters: {'embeddings_length': 256, 'lr': 4.430517901105331e-06, 'n_topics': 275, 'alpha': 4.966109805611651}. Best is trial 7 with value: 0.7598944591029024.\u001B[0m\n"
     ]
    },
    {
     "data": {
      "text/plain": "  0%|          | 0/396 [00:00<?, ?it/s]",
      "application/vnd.jupyter.widget-view+json": {
       "version_major": 2,
       "version_minor": 0,
       "model_id": "164cab09716343ecb75975cc70d1bd05"
      }
     },
     "metadata": {},
     "output_type": "display_data"
    },
    {
     "data": {
      "text/plain": "  0%|          | 0/17 [00:00<?, ?it/s]",
      "application/vnd.jupyter.widget-view+json": {
       "version_major": 2,
       "version_minor": 0,
       "model_id": "82d7dbad0fb54763b8015c47985a28e9"
      }
     },
     "metadata": {},
     "output_type": "display_data"
    },
    {
     "name": "stderr",
     "output_type": "stream",
     "text": [
      "\u001B[32m[I 2022-08-14 02:40:17,717]\u001B[0m Trial 12 finished with value: 0.7535545023696683 and parameters: {'embeddings_length': 256, 'lr': 7.533937351970317e-06, 'n_topics': 275, 'alpha': 4.795168247606659}. Best is trial 7 with value: 0.7598944591029024.\u001B[0m\n"
     ]
    },
    {
     "data": {
      "text/plain": "  0%|          | 0/396 [00:00<?, ?it/s]",
      "application/vnd.jupyter.widget-view+json": {
       "version_major": 2,
       "version_minor": 0,
       "model_id": "c7d3eee4248749f890213dfc7dd8a9ea"
      }
     },
     "metadata": {},
     "output_type": "display_data"
    },
    {
     "data": {
      "text/plain": "  0%|          | 0/17 [00:00<?, ?it/s]",
      "application/vnd.jupyter.widget-view+json": {
       "version_major": 2,
       "version_minor": 0,
       "model_id": "5837509e43024ed9aa66db2b55586cb5"
      }
     },
     "metadata": {},
     "output_type": "display_data"
    },
    {
     "name": "stderr",
     "output_type": "stream",
     "text": [
      "\u001B[32m[I 2022-08-14 03:00:02,377]\u001B[0m Trial 13 finished with value: 0.7535545023696683 and parameters: {'embeddings_length': 256, 'lr': 1.1522994494886272e-06, 'n_topics': 327, 'alpha': 5.78849806293999}. Best is trial 7 with value: 0.7598944591029024.\u001B[0m\n"
     ]
    },
    {
     "data": {
      "text/plain": "  0%|          | 0/396 [00:00<?, ?it/s]",
      "application/vnd.jupyter.widget-view+json": {
       "version_major": 2,
       "version_minor": 0,
       "model_id": "ec68357927dc451dadd69d3366eecc10"
      }
     },
     "metadata": {},
     "output_type": "display_data"
    },
    {
     "data": {
      "text/plain": "  0%|          | 0/17 [00:00<?, ?it/s]",
      "application/vnd.jupyter.widget-view+json": {
       "version_major": 2,
       "version_minor": 0,
       "model_id": "6ae2a28f3f4246f990d03bcca0c5dee7"
      }
     },
     "metadata": {},
     "output_type": "display_data"
    },
    {
     "name": "stderr",
     "output_type": "stream",
     "text": [
      "\u001B[32m[I 2022-08-14 03:20:07,971]\u001B[0m Trial 14 finished with value: 0.7535545023696683 and parameters: {'embeddings_length': 256, 'lr': 1.0106534859870865e-05, 'n_topics': 230, 'alpha': 3.8690785921430457}. Best is trial 7 with value: 0.7598944591029024.\u001B[0m\n"
     ]
    },
    {
     "data": {
      "text/plain": "  0%|          | 0/396 [00:00<?, ?it/s]",
      "application/vnd.jupyter.widget-view+json": {
       "version_major": 2,
       "version_minor": 0,
       "model_id": "19f2828144e045699788a8468640d823"
      }
     },
     "metadata": {},
     "output_type": "display_data"
    },
    {
     "data": {
      "text/plain": "  0%|          | 0/17 [00:00<?, ?it/s]",
      "application/vnd.jupyter.widget-view+json": {
       "version_major": 2,
       "version_minor": 0,
       "model_id": "8b67228f2ec24eae9c16d0c8ec16096c"
      }
     },
     "metadata": {},
     "output_type": "display_data"
    },
    {
     "name": "stderr",
     "output_type": "stream",
     "text": [
      "\u001B[32m[I 2022-08-14 03:39:53,177]\u001B[0m Trial 15 finished with value: 0.7553444180522565 and parameters: {'embeddings_length': 256, 'lr': 1.7415901169778125e-05, 'n_topics': 324, 'alpha': 5.836912696169797}. Best is trial 7 with value: 0.7598944591029024.\u001B[0m\n"
     ]
    },
    {
     "data": {
      "text/plain": "  0%|          | 0/396 [00:00<?, ?it/s]",
      "application/vnd.jupyter.widget-view+json": {
       "version_major": 2,
       "version_minor": 0,
       "model_id": "dc6166a6b4c04b34a86b71015d5a6a06"
      }
     },
     "metadata": {},
     "output_type": "display_data"
    },
    {
     "data": {
      "text/plain": "  0%|          | 0/17 [00:00<?, ?it/s]",
      "application/vnd.jupyter.widget-view+json": {
       "version_major": 2,
       "version_minor": 0,
       "model_id": "b7a4b87142184ac997754753c76874ec"
      }
     },
     "metadata": {},
     "output_type": "display_data"
    },
    {
     "name": "stderr",
     "output_type": "stream",
     "text": [
      "\u001B[32m[I 2022-08-14 03:59:27,555]\u001B[0m Trial 16 finished with value: 0.7571428571428571 and parameters: {'embeddings_length': 256, 'lr': 1.7438865010717146e-05, 'n_topics': 320, 'alpha': 6.603920974933399}. Best is trial 7 with value: 0.7598944591029024.\u001B[0m\n"
     ]
    },
    {
     "data": {
      "text/plain": "  0%|          | 0/396 [00:00<?, ?it/s]",
      "application/vnd.jupyter.widget-view+json": {
       "version_major": 2,
       "version_minor": 0,
       "model_id": "9dd4e7faafa84c45a364261f90de5d3b"
      }
     },
     "metadata": {},
     "output_type": "display_data"
    },
    {
     "data": {
      "text/plain": "  0%|          | 0/17 [00:00<?, ?it/s]",
      "application/vnd.jupyter.widget-view+json": {
       "version_major": 2,
       "version_minor": 0,
       "model_id": "19e9b9cdddec48018ff6196cb0731b80"
      }
     },
     "metadata": {},
     "output_type": "display_data"
    },
    {
     "name": "stderr",
     "output_type": "stream",
     "text": [
      "\u001B[32m[I 2022-08-14 04:19:24,936]\u001B[0m Trial 17 finished with value: 0.7535545023696683 and parameters: {'embeddings_length': 256, 'lr': 1.5767774498672193e-05, 'n_topics': 495, 'alpha': 6.327604160723418}. Best is trial 7 with value: 0.7598944591029024.\u001B[0m\n"
     ]
    },
    {
     "data": {
      "text/plain": "  0%|          | 0/396 [00:00<?, ?it/s]",
      "application/vnd.jupyter.widget-view+json": {
       "version_major": 2,
       "version_minor": 0,
       "model_id": "18ff8f69e0394aae822526f6a22b8df3"
      }
     },
     "metadata": {},
     "output_type": "display_data"
    },
    {
     "data": {
      "text/plain": "  0%|          | 0/17 [00:00<?, ?it/s]",
      "application/vnd.jupyter.widget-view+json": {
       "version_major": 2,
       "version_minor": 0,
       "model_id": "08f108cb4b814d348f30e5fb10b92da6"
      }
     },
     "metadata": {},
     "output_type": "display_data"
    },
    {
     "name": "stderr",
     "output_type": "stream",
     "text": [
      "\u001B[32m[I 2022-08-14 04:39:19,971]\u001B[0m Trial 18 finished with value: 0.7535545023696683 and parameters: {'embeddings_length': 512, 'lr': 2.132443228695416e-06, 'n_topics': 323, 'alpha': 9.17651655827257}. Best is trial 7 with value: 0.7598944591029024.\u001B[0m\n"
     ]
    },
    {
     "data": {
      "text/plain": "  0%|          | 0/396 [00:00<?, ?it/s]",
      "application/vnd.jupyter.widget-view+json": {
       "version_major": 2,
       "version_minor": 0,
       "model_id": "dbfb9191cd624aa1acdf8790413f0414"
      }
     },
     "metadata": {},
     "output_type": "display_data"
    },
    {
     "data": {
      "text/plain": "  0%|          | 0/17 [00:00<?, ?it/s]",
      "application/vnd.jupyter.widget-view+json": {
       "version_major": 2,
       "version_minor": 0,
       "model_id": "13bfbda265414e9593f970690eaa2617"
      }
     },
     "metadata": {},
     "output_type": "display_data"
    },
    {
     "name": "stderr",
     "output_type": "stream",
     "text": [
      "\u001B[32m[I 2022-08-14 04:59:01,233]\u001B[0m Trial 19 finished with value: 0.7658536585365855 and parameters: {'embeddings_length': 256, 'lr': 2.319098338283166e-05, 'n_topics': 375, 'alpha': 8.205941049502012}. Best is trial 19 with value: 0.7658536585365855.\u001B[0m\n"
     ]
    },
    {
     "data": {
      "text/plain": "  0%|          | 0/396 [00:00<?, ?it/s]",
      "application/vnd.jupyter.widget-view+json": {
       "version_major": 2,
       "version_minor": 0,
       "model_id": "02532f1ae44742c69ab7f8aaa62214f7"
      }
     },
     "metadata": {},
     "output_type": "display_data"
    },
    {
     "data": {
      "text/plain": "  0%|          | 0/17 [00:00<?, ?it/s]",
      "application/vnd.jupyter.widget-view+json": {
       "version_major": 2,
       "version_minor": 0,
       "model_id": "c682b49e89b44c838134448db94ba377"
      }
     },
     "metadata": {},
     "output_type": "display_data"
    },
    {
     "name": "stderr",
     "output_type": "stream",
     "text": [
      "\u001B[32m[I 2022-08-14 05:18:51,829]\u001B[0m Trial 20 finished with value: 0.7466666666666667 and parameters: {'embeddings_length': 256, 'lr': 3.0312248305507033e-05, 'n_topics': 386, 'alpha': 8.500540073167956}. Best is trial 19 with value: 0.7658536585365855.\u001B[0m\n"
     ]
    },
    {
     "data": {
      "text/plain": "  0%|          | 0/396 [00:00<?, ?it/s]",
      "application/vnd.jupyter.widget-view+json": {
       "version_major": 2,
       "version_minor": 0,
       "model_id": "14f3419a44a542b0892532fddc31484d"
      }
     },
     "metadata": {},
     "output_type": "display_data"
    },
    {
     "data": {
      "text/plain": "  0%|          | 0/17 [00:00<?, ?it/s]",
      "application/vnd.jupyter.widget-view+json": {
       "version_major": 2,
       "version_minor": 0,
       "model_id": "22bf286282024689b93a5b829db2e270"
      }
     },
     "metadata": {},
     "output_type": "display_data"
    },
    {
     "name": "stderr",
     "output_type": "stream",
     "text": [
      "\u001B[32m[I 2022-08-14 05:38:36,844]\u001B[0m Trial 21 finished with value: 0.7607655502392345 and parameters: {'embeddings_length': 256, 'lr': 2.1329400796184363e-05, 'n_topics': 348, 'alpha': 6.362344710761342}. Best is trial 19 with value: 0.7658536585365855.\u001B[0m\n"
     ]
    },
    {
     "data": {
      "text/plain": "  0%|          | 0/396 [00:00<?, ?it/s]",
      "application/vnd.jupyter.widget-view+json": {
       "version_major": 2,
       "version_minor": 0,
       "model_id": "92713f9e4f6d4454b6869fb2a0b88a38"
      }
     },
     "metadata": {},
     "output_type": "display_data"
    },
    {
     "data": {
      "text/plain": "  0%|          | 0/17 [00:00<?, ?it/s]",
      "application/vnd.jupyter.widget-view+json": {
       "version_major": 2,
       "version_minor": 0,
       "model_id": "02d8ef6c5c064bc2bc8813da1d2bb8f3"
      }
     },
     "metadata": {},
     "output_type": "display_data"
    },
    {
     "name": "stderr",
     "output_type": "stream",
     "text": [
      "\u001B[32m[I 2022-08-14 05:58:24,454]\u001B[0m Trial 22 finished with value: 0.7272727272727273 and parameters: {'embeddings_length': 256, 'lr': 4.587881427129855e-05, 'n_topics': 434, 'alpha': 7.960260188096836}. Best is trial 19 with value: 0.7658536585365855.\u001B[0m\n"
     ]
    },
    {
     "data": {
      "text/plain": "  0%|          | 0/396 [00:00<?, ?it/s]",
      "application/vnd.jupyter.widget-view+json": {
       "version_major": 2,
       "version_minor": 0,
       "model_id": "5c97974dec3c4e20a4d863f8f78f6506"
      }
     },
     "metadata": {},
     "output_type": "display_data"
    },
    {
     "data": {
      "text/plain": "  0%|          | 0/17 [00:00<?, ?it/s]",
      "application/vnd.jupyter.widget-view+json": {
       "version_major": 2,
       "version_minor": 0,
       "model_id": "5c5d259524524e13bea1806098e44869"
      }
     },
     "metadata": {},
     "output_type": "display_data"
    },
    {
     "name": "stderr",
     "output_type": "stream",
     "text": [
      "\u001B[32m[I 2022-08-14 06:18:09,841]\u001B[0m Trial 23 finished with value: 0.7570332480818415 and parameters: {'embeddings_length': 256, 'lr': 2.636726551025687e-05, 'n_topics': 346, 'alpha': 6.498028157808785}. Best is trial 19 with value: 0.7658536585365855.\u001B[0m\n"
     ]
    },
    {
     "data": {
      "text/plain": "  0%|          | 0/396 [00:00<?, ?it/s]",
      "application/vnd.jupyter.widget-view+json": {
       "version_major": 2,
       "version_minor": 0,
       "model_id": "19b14cf15ac34901a6d53696f0beef1a"
      }
     },
     "metadata": {},
     "output_type": "display_data"
    },
    {
     "data": {
      "text/plain": "  0%|          | 0/17 [00:00<?, ?it/s]",
      "application/vnd.jupyter.widget-view+json": {
       "version_major": 2,
       "version_minor": 0,
       "model_id": "eafd99cfaf8b4a1fba7eea0541b05fc7"
      }
     },
     "metadata": {},
     "output_type": "display_data"
    },
    {
     "name": "stderr",
     "output_type": "stream",
     "text": [
      "\u001B[32m[I 2022-08-14 06:37:41,063]\u001B[0m Trial 24 finished with value: 0.7535545023696683 and parameters: {'embeddings_length': 256, 'lr': 7.603531590513733e-06, 'n_topics': 223, 'alpha': 5.644169381060152}. Best is trial 19 with value: 0.7658536585365855.\u001B[0m\n"
     ]
    },
    {
     "data": {
      "text/plain": "  0%|          | 0/396 [00:00<?, ?it/s]",
      "application/vnd.jupyter.widget-view+json": {
       "version_major": 2,
       "version_minor": 0,
       "model_id": "792b3effb5dd4956a16028e61c183ee5"
      }
     },
     "metadata": {},
     "output_type": "display_data"
    },
    {
     "data": {
      "text/plain": "  0%|          | 0/17 [00:00<?, ?it/s]",
      "application/vnd.jupyter.widget-view+json": {
       "version_major": 2,
       "version_minor": 0,
       "model_id": "e4677971422c4f1da852679b8ce50e70"
      }
     },
     "metadata": {},
     "output_type": "display_data"
    },
    {
     "name": "stderr",
     "output_type": "stream",
     "text": [
      "\u001B[32m[I 2022-08-14 06:57:31,506]\u001B[0m Trial 25 finished with value: 0.7130919220055711 and parameters: {'embeddings_length': 256, 'lr': 6.108433065536728e-05, 'n_topics': 462, 'alpha': 4.013405801160857}. Best is trial 19 with value: 0.7658536585365855.\u001B[0m\n"
     ]
    },
    {
     "data": {
      "text/plain": "  0%|          | 0/396 [00:00<?, ?it/s]",
      "application/vnd.jupyter.widget-view+json": {
       "version_major": 2,
       "version_minor": 0,
       "model_id": "1d664565ee004f57b68671d980771edf"
      }
     },
     "metadata": {},
     "output_type": "display_data"
    },
    {
     "data": {
      "text/plain": "  0%|          | 0/17 [00:00<?, ?it/s]",
      "application/vnd.jupyter.widget-view+json": {
       "version_major": 2,
       "version_minor": 0,
       "model_id": "65c962aa4e814422aad991a1d1b824cb"
      }
     },
     "metadata": {},
     "output_type": "display_data"
    },
    {
     "name": "stderr",
     "output_type": "stream",
     "text": [
      "\u001B[32m[I 2022-08-14 07:17:10,657]\u001B[0m Trial 26 finished with value: 0.7535545023696683 and parameters: {'embeddings_length': 256, 'lr': 1.2279730255533144e-05, 'n_topics': 365, 'alpha': 9.95276348598766}. Best is trial 19 with value: 0.7658536585365855.\u001B[0m\n"
     ]
    },
    {
     "data": {
      "text/plain": "  0%|          | 0/396 [00:00<?, ?it/s]",
      "application/vnd.jupyter.widget-view+json": {
       "version_major": 2,
       "version_minor": 0,
       "model_id": "b5893357192a4c8abd28b8c9c0d2a7bc"
      }
     },
     "metadata": {},
     "output_type": "display_data"
    },
    {
     "data": {
      "text/plain": "  0%|          | 0/17 [00:00<?, ?it/s]",
      "application/vnd.jupyter.widget-view+json": {
       "version_major": 2,
       "version_minor": 0,
       "model_id": "135c11c7694449e3a18466141ec9ee3a"
      }
     },
     "metadata": {},
     "output_type": "display_data"
    },
    {
     "name": "stderr",
     "output_type": "stream",
     "text": [
      "\u001B[32m[I 2022-08-14 07:36:46,914]\u001B[0m Trial 27 finished with value: 0.7566265060240964 and parameters: {'embeddings_length': 512, 'lr': 2.193762317085549e-05, 'n_topics': 305, 'alpha': 8.309536705908585}. Best is trial 19 with value: 0.7658536585365855.\u001B[0m\n"
     ]
    },
    {
     "data": {
      "text/plain": "  0%|          | 0/396 [00:00<?, ?it/s]",
      "application/vnd.jupyter.widget-view+json": {
       "version_major": 2,
       "version_minor": 0,
       "model_id": "8402cbf5699b4ba5beaa61bef580ba88"
      }
     },
     "metadata": {},
     "output_type": "display_data"
    },
    {
     "data": {
      "text/plain": "  0%|          | 0/17 [00:00<?, ?it/s]",
      "application/vnd.jupyter.widget-view+json": {
       "version_major": 2,
       "version_minor": 0,
       "model_id": "d48f4af16f3a493287527eb959869e78"
      }
     },
     "metadata": {},
     "output_type": "display_data"
    },
    {
     "name": "stderr",
     "output_type": "stream",
     "text": [
      "\u001B[32m[I 2022-08-14 07:56:32,096]\u001B[0m Trial 28 finished with value: 0.7535545023696683 and parameters: {'embeddings_length': 256, 'lr': 4.31352958370428e-06, 'n_topics': 425, 'alpha': 9.023970061320359}. Best is trial 19 with value: 0.7658536585365855.\u001B[0m\n"
     ]
    },
    {
     "data": {
      "text/plain": "  0%|          | 0/396 [00:00<?, ?it/s]",
      "application/vnd.jupyter.widget-view+json": {
       "version_major": 2,
       "version_minor": 0,
       "model_id": "d1764bac831e43de82ba8fb08cf5e0da"
      }
     },
     "metadata": {},
     "output_type": "display_data"
    },
    {
     "data": {
      "text/plain": "  0%|          | 0/17 [00:00<?, ?it/s]",
      "application/vnd.jupyter.widget-view+json": {
       "version_major": 2,
       "version_minor": 0,
       "model_id": "d73614820be54503b8bd9ce5ffc43cca"
      }
     },
     "metadata": {},
     "output_type": "display_data"
    },
    {
     "name": "stderr",
     "output_type": "stream",
     "text": [
      "\u001B[32m[I 2022-08-14 08:16:08,737]\u001B[0m Trial 29 finished with value: 0.6975308641975309 and parameters: {'embeddings_length': 256, 'lr': 0.000281077438013284, 'n_topics': 388, 'alpha': 7.224365281209604}. Best is trial 19 with value: 0.7658536585365855.\u001B[0m\n"
     ]
    },
    {
     "data": {
      "text/plain": "  0%|          | 0/396 [00:00<?, ?it/s]",
      "application/vnd.jupyter.widget-view+json": {
       "version_major": 2,
       "version_minor": 0,
       "model_id": "8a5547a96abc4f6e9ad6da0ba9bf166f"
      }
     },
     "metadata": {},
     "output_type": "display_data"
    },
    {
     "data": {
      "text/plain": "  0%|          | 0/17 [00:00<?, ?it/s]",
      "application/vnd.jupyter.widget-view+json": {
       "version_major": 2,
       "version_minor": 0,
       "model_id": "011950cf9bb442e1a62d8bdb344d459b"
      }
     },
     "metadata": {},
     "output_type": "display_data"
    },
    {
     "name": "stderr",
     "output_type": "stream",
     "text": [
      "\u001B[32m[I 2022-08-14 08:29:02,199]\u001B[0m Trial 30 finished with value: 0.6994219653179192 and parameters: {'embeddings_length': 256, 'lr': 0.00017767267407820328, 'n_topics': 291, 'alpha': 4.155442526908293}. Best is trial 19 with value: 0.7658536585365855.\u001B[0m\n"
     ]
    },
    {
     "data": {
      "text/plain": "  0%|          | 0/396 [00:00<?, ?it/s]",
      "application/vnd.jupyter.widget-view+json": {
       "version_major": 2,
       "version_minor": 0,
       "model_id": "2808b100869c48049b5f53b926558f7b"
      }
     },
     "metadata": {},
     "output_type": "display_data"
    },
    {
     "data": {
      "text/plain": "  0%|          | 0/17 [00:00<?, ?it/s]",
      "application/vnd.jupyter.widget-view+json": {
       "version_major": 2,
       "version_minor": 0,
       "model_id": "cdc84eeec06547e5ac679f769281e9c3"
      }
     },
     "metadata": {},
     "output_type": "display_data"
    },
    {
     "name": "stderr",
     "output_type": "stream",
     "text": [
      "\u001B[32m[I 2022-08-14 08:38:17,401]\u001B[0m Trial 31 finished with value: 0.7405405405405405 and parameters: {'embeddings_length': 256, 'lr': 3.5623608256136296e-05, 'n_topics': 356, 'alpha': 6.481842246677114}. Best is trial 19 with value: 0.7658536585365855.\u001B[0m\n"
     ]
    },
    {
     "data": {
      "text/plain": "  0%|          | 0/396 [00:00<?, ?it/s]",
      "application/vnd.jupyter.widget-view+json": {
       "version_major": 2,
       "version_minor": 0,
       "model_id": "1f508e1f857d490b898fdb5285687cea"
      }
     },
     "metadata": {},
     "output_type": "display_data"
    },
    {
     "data": {
      "text/plain": "  0%|          | 0/17 [00:00<?, ?it/s]",
      "application/vnd.jupyter.widget-view+json": {
       "version_major": 2,
       "version_minor": 0,
       "model_id": "152e433262e94913b300debd7a4a4f63"
      }
     },
     "metadata": {},
     "output_type": "display_data"
    },
    {
     "name": "stderr",
     "output_type": "stream",
     "text": [
      "\u001B[32m[I 2022-08-14 08:47:31,964]\u001B[0m Trial 32 finished with value: 0.7031700288184439 and parameters: {'embeddings_length': 256, 'lr': 6.316214755336677e-05, 'n_topics': 303, 'alpha': 6.591891990086856}. Best is trial 19 with value: 0.7658536585365855.\u001B[0m\n"
     ]
    },
    {
     "data": {
      "text/plain": "  0%|          | 0/396 [00:00<?, ?it/s]",
      "application/vnd.jupyter.widget-view+json": {
       "version_major": 2,
       "version_minor": 0,
       "model_id": "5da5c72911324e23bf4124e8e89b64eb"
      }
     },
     "metadata": {},
     "output_type": "display_data"
    },
    {
     "data": {
      "text/plain": "  0%|          | 0/17 [00:00<?, ?it/s]",
      "application/vnd.jupyter.widget-view+json": {
       "version_major": 2,
       "version_minor": 0,
       "model_id": "59d6b256faef43a7a2e50e0c2d029083"
      }
     },
     "metadata": {},
     "output_type": "display_data"
    },
    {
     "name": "stderr",
     "output_type": "stream",
     "text": [
      "\u001B[32m[I 2022-08-14 08:56:36,000]\u001B[0m Trial 33 finished with value: 0.7571428571428571 and parameters: {'embeddings_length': 256, 'lr': 1.8017003966753118e-05, 'n_topics': 348, 'alpha': 5.529975266978168}. Best is trial 19 with value: 0.7658536585365855.\u001B[0m\n"
     ]
    },
    {
     "data": {
      "text/plain": "  0%|          | 0/396 [00:00<?, ?it/s]",
      "application/vnd.jupyter.widget-view+json": {
       "version_major": 2,
       "version_minor": 0,
       "model_id": "5cc0d6e639b447f5ae3779edef6a3de9"
      }
     },
     "metadata": {},
     "output_type": "display_data"
    },
    {
     "data": {
      "text/plain": "  0%|          | 0/17 [00:00<?, ?it/s]",
      "application/vnd.jupyter.widget-view+json": {
       "version_major": 2,
       "version_minor": 0,
       "model_id": "90fd3812444348169e7a156e28c15ef0"
      }
     },
     "metadata": {},
     "output_type": "display_data"
    },
    {
     "name": "stderr",
     "output_type": "stream",
     "text": [
      "\u001B[32m[I 2022-08-14 09:04:55,930]\u001B[0m Trial 34 finished with value: 0.7535545023696683 and parameters: {'embeddings_length': 512, 'lr': 1.0552701059492873e-05, 'n_topics': 410, 'alpha': 7.883327062917928}. Best is trial 19 with value: 0.7658536585365855.\u001B[0m\n"
     ]
    },
    {
     "data": {
      "text/plain": "  0%|          | 0/396 [00:00<?, ?it/s]",
      "application/vnd.jupyter.widget-view+json": {
       "version_major": 2,
       "version_minor": 0,
       "model_id": "7d6a95ccbba248c994374a648abfb550"
      }
     },
     "metadata": {},
     "output_type": "display_data"
    },
    {
     "data": {
      "text/plain": "  0%|          | 0/17 [00:00<?, ?it/s]",
      "application/vnd.jupyter.widget-view+json": {
       "version_major": 2,
       "version_minor": 0,
       "model_id": "a3db6b0e72ee4159b849b0f6ebb2737e"
      }
     },
     "metadata": {},
     "output_type": "display_data"
    },
    {
     "name": "stderr",
     "output_type": "stream",
     "text": [
      "\u001B[32m[I 2022-08-14 09:13:16,526]\u001B[0m Trial 35 finished with value: 0.7535545023696683 and parameters: {'embeddings_length': 256, 'lr': 6.678915562059049e-06, 'n_topics': 377, 'alpha': 5.5414730413171265}. Best is trial 19 with value: 0.7658536585365855.\u001B[0m\n"
     ]
    },
    {
     "data": {
      "text/plain": "  0%|          | 0/396 [00:00<?, ?it/s]",
      "application/vnd.jupyter.widget-view+json": {
       "version_major": 2,
       "version_minor": 0,
       "model_id": "01792a6ff6ea462f81884f803f86e51a"
      }
     },
     "metadata": {},
     "output_type": "display_data"
    },
    {
     "data": {
      "text/plain": "  0%|          | 0/17 [00:00<?, ?it/s]",
      "application/vnd.jupyter.widget-view+json": {
       "version_major": 2,
       "version_minor": 0,
       "model_id": "98d8c675faef4818bf1b773a4870e4df"
      }
     },
     "metadata": {},
     "output_type": "display_data"
    },
    {
     "name": "stderr",
     "output_type": "stream",
     "text": [
      "\u001B[32m[I 2022-08-14 09:21:45,817]\u001B[0m Trial 36 finished with value: 0.7329545454545454 and parameters: {'embeddings_length': 512, 'lr': 7.835729181351143e-05, 'n_topics': 340, 'alpha': 3.176237413449998}. Best is trial 19 with value: 0.7658536585365855.\u001B[0m\n"
     ]
    },
    {
     "data": {
      "text/plain": "  0%|          | 0/396 [00:00<?, ?it/s]",
      "application/vnd.jupyter.widget-view+json": {
       "version_major": 2,
       "version_minor": 0,
       "model_id": "23cd9f94abe4430eafd5cf2989b2a85e"
      }
     },
     "metadata": {},
     "output_type": "display_data"
    },
    {
     "data": {
      "text/plain": "  0%|          | 0/17 [00:00<?, ?it/s]",
      "application/vnd.jupyter.widget-view+json": {
       "version_major": 2,
       "version_minor": 0,
       "model_id": "aa0167d91e824941aaf898326a2ef425"
      }
     },
     "metadata": {},
     "output_type": "display_data"
    },
    {
     "name": "stderr",
     "output_type": "stream",
     "text": [
      "\u001B[32m[I 2022-08-14 09:29:58,985]\u001B[0m Trial 37 finished with value: 0.7472527472527474 and parameters: {'embeddings_length': 256, 'lr': 3.810318619882214e-05, 'n_topics': 173, 'alpha': 7.060298350195058}. Best is trial 19 with value: 0.7658536585365855.\u001B[0m\n"
     ]
    },
    {
     "data": {
      "text/plain": "  0%|          | 0/396 [00:00<?, ?it/s]",
      "application/vnd.jupyter.widget-view+json": {
       "version_major": 2,
       "version_minor": 0,
       "model_id": "1c1c49a8f8534dd69c25cd991471d604"
      }
     },
     "metadata": {},
     "output_type": "display_data"
    },
    {
     "data": {
      "text/plain": "  0%|          | 0/17 [00:00<?, ?it/s]",
      "application/vnd.jupyter.widget-view+json": {
       "version_major": 2,
       "version_minor": 0,
       "model_id": "4c1bea6f7e4e4bb2942f6c4304deea17"
      }
     },
     "metadata": {},
     "output_type": "display_data"
    },
    {
     "name": "stderr",
     "output_type": "stream",
     "text": [
      "\u001B[32m[I 2022-08-14 09:38:37,318]\u001B[0m Trial 38 finished with value: 0.69164265129683 and parameters: {'embeddings_length': 256, 'lr': 0.0005526121751027013, 'n_topics': 248, 'alpha': 8.957435898579504}. Best is trial 19 with value: 0.7658536585365855.\u001B[0m\n"
     ]
    },
    {
     "data": {
      "text/plain": "  0%|          | 0/396 [00:00<?, ?it/s]",
      "application/vnd.jupyter.widget-view+json": {
       "version_major": 2,
       "version_minor": 0,
       "model_id": "1cf4e020aaa8401c8c94a9bb8a8e5ebf"
      }
     },
     "metadata": {},
     "output_type": "display_data"
    },
    {
     "data": {
      "text/plain": "  0%|          | 0/17 [00:00<?, ?it/s]",
      "application/vnd.jupyter.widget-view+json": {
       "version_major": 2,
       "version_minor": 0,
       "model_id": "6b329b1064de487693b1af2e96106f92"
      }
     },
     "metadata": {},
     "output_type": "display_data"
    },
    {
     "name": "stderr",
     "output_type": "stream",
     "text": [
      "\u001B[32m[I 2022-08-14 09:47:31,610]\u001B[0m Trial 39 finished with value: 0.7596153846153847 and parameters: {'embeddings_length': 256, 'lr': 2.2693735743071594e-05, 'n_topics': 459, 'alpha': 2.1773580349180275}. Best is trial 19 with value: 0.7658536585365855.\u001B[0m\n"
     ]
    },
    {
     "name": "stdout",
     "output_type": "stream",
     "text": [
      "BEST TRAIL:\n",
      " f1:  [0.7658536585365855]\n",
      "params: {'embeddings_length': 256, 'lr': 2.319098338283166e-05, 'n_topics': 375, 'alpha': 8.205941049502012}\n"
     ]
    }
   ],
   "source": [
    "from utils.data_processing import create_sentences_corpus\n",
    "import torch\n",
    "from models import tBERT\n",
    "from transformers import AdamW\n",
    "from trainer import Trainer\n",
    "import optuna\n",
    "import json\n",
    "import os\n",
    "\n",
    "DEVICE = torch.device(\"cuda\") if torch.cuda.is_available() else torch.device(\"cpu\")\n",
    "NUM_EPOCHS = 6\n",
    "N_TRAILS = 40\n",
    "\n",
    "def tbert_objective(trail):\n",
    "    # PARAMS SETTING\n",
    "    # Embedding\n",
    "    embeddings_length = trail.suggest_categorical('embeddings_length', [256, 512])\n",
    "    # General Model\n",
    "    lr = trail.suggest_loguniform('lr', 1e-6, 1e-3)\n",
    "    # LDA\n",
    "    n_topics = trail.suggest_int('n_topics', 50, 500)\n",
    "    alpha = trail.suggest_float('alpha', 1/50, 10)\n",
    "\n",
    "\n",
    "    corpus = create_sentences_corpus(train_dataloader)\n",
    "    model = tBERT(corpus, model_name='bert-base-uncased',num_labels=2,\n",
    "             max_length=embeddings_length, n_topics=n_topics, alpha=alpha, device=DEVICE)\n",
    "\n",
    "    optimizer = AdamW(model.parameters(), lr=lr)\n",
    "\n",
    "    trainer = Trainer(model=model, optimizer=optimizer, train_dataloader=train_dataloader, num_epochs=NUM_EPOCHS, device=DEVICE)\n",
    "\n",
    "    trainer.train()\n",
    "    f1 = trainer.evaluate(val_dataloader)\n",
    "    return f1\n",
    "\n",
    "if not os.path.isfile('results/tBERT_best_params.json'):\n",
    "\n",
    "    study = optuna.create_study(direction='maximize')\n",
    "    study.optimize(tbert_objective, n_trials=N_TRAILS)\n",
    "\n",
    "    trail_ = study.best_trial\n",
    "    with open('results/tBERT_best_params.json', 'w') as f:\n",
    "        d = dict(trail_.params)\n",
    "        d['f1'] = trail_.values[0]\n",
    "        json.dump(d, f, indent=4)\n",
    "    print(f'BEST TRAIL:\\n f1:  {trail_.values}\\nparams: {trail_.params}')"
   ],
   "metadata": {
    "collapsed": false,
    "pycharm": {
     "name": "#%%\n"
    }
   }
  },
  {
   "cell_type": "code",
   "execution_count": null,
   "outputs": [],
   "source": [],
   "metadata": {
    "collapsed": false,
    "pycharm": {
     "name": "#%%\n"
    }
   }
  },
  {
   "cell_type": "code",
   "execution_count": null,
   "outputs": [],
   "source": [],
   "metadata": {
    "collapsed": false,
    "pycharm": {
     "name": "#%%\n"
    }
   }
  },
  {
   "cell_type": "code",
   "execution_count": 22,
   "outputs": [
    {
     "data": {
      "text/plain": "  0%|          | 0/66 [00:00<?, ?it/s]",
      "application/vnd.jupyter.widget-view+json": {
       "version_major": 2,
       "version_minor": 0,
       "model_id": "34dc514a768f46abb9edc85ea4b9a5db"
      }
     },
     "metadata": {},
     "output_type": "display_data"
    },
    {
     "data": {
      "text/plain": "  0%|          | 0/17 [00:00<?, ?it/s]",
      "application/vnd.jupyter.widget-view+json": {
       "version_major": 2,
       "version_minor": 0,
       "model_id": "7df3b03d64b24f4aa365948e1b03dd79"
      }
     },
     "metadata": {},
     "output_type": "display_data"
    },
    {
     "ename": "TypeError",
     "evalue": "cannot unpack non-iterable numpy.float64 object",
     "output_type": "error",
     "traceback": [
      "\u001B[1;31m---------------------------------------------------------------------------\u001B[0m",
      "\u001B[1;31mTypeError\u001B[0m                                 Traceback (most recent call last)",
      "Input \u001B[1;32mIn [22]\u001B[0m, in \u001B[0;36m<cell line: 10>\u001B[1;34m()\u001B[0m\n\u001B[0;32m      6\u001B[0m trainer \u001B[38;5;241m=\u001B[39m Trainer(model\u001B[38;5;241m=\u001B[39mmodel, optimizer\u001B[38;5;241m=\u001B[39moptimizer, train_dataloader\u001B[38;5;241m=\u001B[39mtrain_dataloader, num_epochs\u001B[38;5;241m=\u001B[39m\u001B[38;5;241m1\u001B[39m, device\u001B[38;5;241m=\u001B[39mDEVICE)\n\u001B[0;32m      8\u001B[0m trainer\u001B[38;5;241m.\u001B[39mtrain()\n\u001B[1;32m---> 10\u001B[0m labels, preds \u001B[38;5;241m=\u001B[39m trainer\u001B[38;5;241m.\u001B[39mevaluate(val_dataloader)\n",
      "\u001B[1;31mTypeError\u001B[0m: cannot unpack non-iterable numpy.float64 object"
     ]
    }
   ],
   "source": [
    "\n",
    "    # train tBERT\n",
    "corpus = create_sentences_corpus(train_dataloader)\n",
    "model = tBERT(corpus, model_name='bert-base-uncased', num_labels=2,\n",
    "             max_length=256, n_topics=100, alpha=5, device=DEVICE)\n",
    "optimizer = AdamW(model.parameters(), lr=0.00005)\n",
    "trainer = Trainer(model=model, optimizer=optimizer, train_dataloader=train_dataloader, num_epochs=1, device=DEVICE)\n",
    "\n",
    "trainer.train()\n",
    "\n",
    "labels, preds = trainer.evaluate(val_dataloader)\n"
   ],
   "metadata": {
    "collapsed": false,
    "pycharm": {
     "name": "#%%\n"
    }
   }
  },
  {
   "cell_type": "code",
   "execution_count": 23,
   "outputs": [
    {
     "data": {
      "text/plain": "  0%|          | 0/17 [00:00<?, ?it/s]",
      "application/vnd.jupyter.widget-view+json": {
       "version_major": 2,
       "version_minor": 0,
       "model_id": "3d7710fc1abf453babe564f2a0e5f8e7"
      }
     },
     "metadata": {},
     "output_type": "display_data"
    },
    {
     "ename": "TypeError",
     "evalue": "cannot unpack non-iterable numpy.float64 object",
     "output_type": "error",
     "traceback": [
      "\u001B[1;31m---------------------------------------------------------------------------\u001B[0m",
      "\u001B[1;31mTypeError\u001B[0m                                 Traceback (most recent call last)",
      "Input \u001B[1;32mIn [23]\u001B[0m, in \u001B[0;36m<cell line: 1>\u001B[1;34m()\u001B[0m\n\u001B[1;32m----> 1\u001B[0m labels, preds \u001B[38;5;241m=\u001B[39m trainer\u001B[38;5;241m.\u001B[39mevaluate(val_dataloader)\n",
      "\u001B[1;31mTypeError\u001B[0m: cannot unpack non-iterable numpy.float64 object"
     ]
    }
   ],
   "source": [
    "labels, preds = trainer.evaluate(val_dataloader)\n"
   ],
   "metadata": {
    "collapsed": false,
    "pycharm": {
     "name": "#%%\n"
    }
   }
  },
  {
   "cell_type": "code",
   "execution_count": null,
   "outputs": [],
   "source": [],
   "metadata": {
    "collapsed": false,
    "pycharm": {
     "name": "#%%\n"
    }
   }
  },
  {
   "cell_type": "code",
   "execution_count": null,
   "outputs": [],
   "source": [],
   "metadata": {
    "collapsed": false,
    "pycharm": {
     "name": "#%%\n"
    }
   }
  }
 ],
 "metadata": {
  "kernelspec": {
   "display_name": "Python 3",
   "language": "python",
   "name": "python3"
  },
  "language_info": {
   "codemirror_mode": {
    "name": "ipython",
    "version": 2
   },
   "file_extension": ".py",
   "mimetype": "text/x-python",
   "name": "python",
   "nbconvert_exporter": "python",
   "pygments_lexer": "ipython2",
   "version": "2.7.6"
  }
 },
 "nbformat": 4,
 "nbformat_minor": 0
}