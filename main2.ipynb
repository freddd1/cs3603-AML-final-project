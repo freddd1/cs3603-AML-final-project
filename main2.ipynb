{
 "cells": [
  {
   "cell_type": "code",
   "execution_count": 78,
   "metadata": {
    "collapsed": true
   },
   "outputs": [
    {
     "name": "stdout",
     "output_type": "stream",
     "text": [
      "The autoreload extension is already loaded. To reload it, use:\n",
      "  %reload_ext autoreload\n"
     ]
    }
   ],
   "source": [
    "import warnings\n",
    "import numpy as np\n",
    "import pandas as pd\n",
    "import matplotlib.pyplot as plt\n",
    "from torch.utils.data import DataLoader\n",
    "import transformers\n",
    "%load_ext autoreload\n",
    "%autoreload 2\n",
    "\n",
    "transformers.logging.set_verbosity_error()"
   ]
  },
  {
   "cell_type": "code",
   "execution_count": 79,
   "outputs": [],
   "source": [
    "from utils.seed import set_seed\n",
    "\n",
    "SEED = 146\n",
    "set_seed(SEED)"
   ],
   "metadata": {
    "collapsed": false,
    "pycharm": {
     "name": "#%%\n"
    }
   }
  },
  {
   "cell_type": "markdown",
   "source": [
    "# Load the data"
   ],
   "metadata": {
    "collapsed": false,
    "pycharm": {
     "name": "#%% md\n"
    }
   }
  },
  {
   "cell_type": "code",
   "execution_count": 80,
   "outputs": [],
   "source": [
    "from utils.data_processing import prepre_data_to_model\n",
    "from sklearn.model_selection import train_test_split\n",
    "from datasets import SentencesDataset\n",
    "import torch"
   ],
   "metadata": {
    "collapsed": false,
    "pycharm": {
     "name": "#%%\n"
    }
   }
  },
  {
   "cell_type": "markdown",
   "source": [
    "# Find best parameters"
   ],
   "metadata": {
    "collapsed": false,
    "pycharm": {
     "name": "#%% md\n"
    }
   }
  },
  {
   "cell_type": "code",
   "execution_count": 81,
   "outputs": [],
   "source": [
    "from utils.data_processing import create_sentences_corpus\n",
    "from sklearn.metrics import f1_score\n",
    "import torch\n",
    "from models import tBERT\n",
    "from transformers import AdamW\n",
    "from trainer import Trainer\n",
    "import optuna\n",
    "import json\n",
    "import os\n",
    "\n",
    "def tbert_objective(trail):\n",
    "    # PARAMS SETTING\n",
    "    # Embedding\n",
    "    embeddings_length = trail.suggest_categorical('embeddings_length', [256, 512])\n",
    "    # General Model\n",
    "    lr = trail.suggest_loguniform('lr', 1e-6, 1e-3)\n",
    "    # LDA\n",
    "    n_topics = trail.suggest_int('n_topics', 50, 500)\n",
    "    alpha = trail.suggest_float('alpha', 1/50, 10)\n",
    "\n",
    "\n",
    "    corpus = create_sentences_corpus(train_dataloader)\n",
    "    model = tBERT(corpus, model_name='bert-base-uncased',num_labels=2,\n",
    "             max_length=embeddings_length, n_topics=n_topics, alpha=alpha, device=DEVICE)\n",
    "\n",
    "    optimizer = AdamW(model.parameters(), lr=lr)\n",
    "\n",
    "    trainer = Trainer(model=model, optimizer=optimizer, train_dataloader=train_dataloader, num_epochs=NUM_EPOCHS, device=DEVICE)\n",
    "\n",
    "    trainer.train()\n",
    "\n",
    "    labels, preds = trainer.evaluate(val_dataloader)\n",
    "    f1 = f1_score(labels, preds)\n",
    "\n",
    "    return f1"
   ],
   "metadata": {
    "collapsed": false,
    "pycharm": {
     "name": "#%%\n"
    }
   }
  },
  {
   "cell_type": "code",
   "execution_count": 82,
   "outputs": [],
   "source": [
    "DEVICE = torch.device(\"cuda\") if torch.cuda.is_available() else torch.device(\"cpu\")\n",
    "\n",
    "BATCH_SIZE = 16\n",
    "NUM_EPOCHS = 5\n",
    "\n",
    "N_TRAILS = 35\n",
    "CUTOFF_OPTIONS = [2.5, 3]\n",
    "COL_TEXT_OPTIONS = ['title', 'text']"
   ],
   "metadata": {
    "collapsed": false,
    "pycharm": {
     "name": "#%%\n"
    }
   }
  },
  {
   "cell_type": "code",
   "execution_count": 83,
   "outputs": [],
   "source": [
    "from itertools import product\n",
    "all_options = list(product(CUTOFF_OPTIONS, COL_TEXT_OPTIONS))\n",
    "\n",
    "for cutoff, col_text_to_use in all_options:\n",
    "        file_name = f'tBERT_cutoff{cutoff}_text{col_text_to_use}_best_params.json'\n",
    "\n",
    "        if not os.path.isfile(f'results/{file_name}'):\n",
    "\n",
    "            # Create the data\n",
    "            train_base = prepre_data_to_model('data/semeval8/full_meta_en_train.csv', 'data/semeval8/en_train.csv', cutoff=cutoff, col_text_to_use=col_text_to_use)\n",
    "            test = prepre_data_to_model('data/semeval8/evaluate_metadata.csv', 'data/semeval8/evaluate_dataset.csv', cutoff=cutoff, col_text_to_use=col_text_to_use)\n",
    "\n",
    "            train, val = train_test_split(train_base, test_size=0.2, shuffle=True, random_state=SEED)\n",
    "\n",
    "            train_ds = SentencesDataset(train.text1.tolist(), train.text1.tolist(), train.labels.tolist())\n",
    "            val_ds = SentencesDataset(val.text1.tolist(), val.text1.tolist(), val.labels.tolist())\n",
    "            test_ds = SentencesDataset(test.text1.tolist(), test.text1.tolist(), test.labels.tolist())\n",
    "\n",
    "\n",
    "            train_dataloader = DataLoader(train_ds, shuffle=True, batch_size=BATCH_SIZE)\n",
    "            val_dataloader = DataLoader(val_ds, shuffle=True, batch_size=BATCH_SIZE)\n",
    "            test_dataloader = DataLoader(test_ds, shuffle=True, batch_size=BATCH_SIZE)\n",
    "\n",
    "            # Hyperparameter\n",
    "            study = optuna.create_study(direction='maximize')\n",
    "            study.optimize(tbert_objective, n_trials=N_TRAILS)\n",
    "\n",
    "            trail_ = study.best_trial\n",
    "            with open(f'results/{file_name}', 'w') as f:\n",
    "                d = dict(trail_.params)\n",
    "                d['f1'] = trail_.values[0]\n",
    "                json.dump(d, f, indent=4)\n",
    "            print(f'BEST TRAIL cutoff - {cutoff}, col - {col_text_to_use}:\\n f1:  {trail_.values}\\nparams: {trail_.params}')"
   ],
   "metadata": {
    "collapsed": false,
    "pycharm": {
     "name": "#%%\n"
    }
   }
  },
  {
   "cell_type": "code",
   "execution_count": 83,
   "outputs": [],
   "source": [],
   "metadata": {
    "collapsed": false,
    "pycharm": {
     "name": "#%%\n"
    }
   }
  },
  {
   "cell_type": "code",
   "execution_count": 83,
   "outputs": [],
   "source": [],
   "metadata": {
    "collapsed": false,
    "pycharm": {
     "name": "#%%\n"
    }
   }
  },
  {
   "cell_type": "markdown",
   "source": [
    "# Train models and evaluate using the TEST SET"
   ],
   "metadata": {
    "collapsed": false,
    "pycharm": {
     "name": "#%% md\n"
    }
   }
  },
  {
   "cell_type": "code",
   "execution_count": 84,
   "outputs": [],
   "source": [
    "NUM_EPOCHS = 12\n",
    "FULL_TRAIN = False"
   ],
   "metadata": {
    "collapsed": false,
    "pycharm": {
     "name": "#%%\n"
    }
   }
  },
  {
   "cell_type": "code",
   "execution_count": 85,
   "outputs": [],
   "source": [
    "if FULL_TRAIN:\n",
    "    files = [f for f in os.listdir('results') if f.endswith('.json')]\n",
    "    for file_name in files:\n",
    "        outputs_file = f'{file_name.split(\"_best\")[0]}.json'\n",
    "\n",
    "        # load the best HP\n",
    "        with open (os.path.join('results', file_name), 'r') as f:\n",
    "            params = json.load(f)\n",
    "\n",
    "        # train tBERT\n",
    "        corpus = create_sentences_corpus(train_dataloader)\n",
    "        model = tBERT(corpus, model_name='bert-base-uncased', num_labels=2,\n",
    "                      max_length=params['embeddings_length'], n_topics=params['n_topics'],\n",
    "                      alpha=params['alpha'], device=DEVICE)\n",
    "\n",
    "        optimizer = AdamW(model.parameters(), lr=params['lr'])\n",
    "\n",
    "        trainer = Trainer(model=model, optimizer=optimizer,\n",
    "                          train_dataloader=train_dataloader,\n",
    "                          num_epochs=NUM_EPOCHS, device=DEVICE)\n",
    "\n",
    "        trainer.train()\n",
    "\n",
    "        # evaluate TEST\n",
    "        labels, preds = trainer.evaluate(test_dataloader)\n",
    "\n",
    "        # save results\n",
    "        with open(os.path.join('results', 'full_train', outputs_file), 'w') as f:\n",
    "            params = dict(params)\n",
    "            del params['f1'] # remove f1 from the HP part\n",
    "            params['labels'] = labels\n",
    "            params['preds'] = preds\n",
    "            json.dump(params, f, indent=2)"
   ],
   "metadata": {
    "collapsed": false,
    "pycharm": {
     "name": "#%%\n"
    }
   }
  },
  {
   "cell_type": "code",
   "execution_count": 86,
   "outputs": [
    {
     "data": {
      "text/plain": "  cutoff text_type  accuracy  precision    recall        f1\n0    2.5      text  0.609091   0.539568  0.773196  0.635593\n1    2.5     title  0.559091   0.500000  0.701031  0.583691\n2      3      text  0.554545   0.496552  0.742268  0.595041\n3      3     title  0.563636   0.503546  0.731959  0.596639",
      "text/html": "<div>\n<style scoped>\n    .dataframe tbody tr th:only-of-type {\n        vertical-align: middle;\n    }\n\n    .dataframe tbody tr th {\n        vertical-align: top;\n    }\n\n    .dataframe thead th {\n        text-align: right;\n    }\n</style>\n<table border=\"1\" class=\"dataframe\">\n  <thead>\n    <tr style=\"text-align: right;\">\n      <th></th>\n      <th>cutoff</th>\n      <th>text_type</th>\n      <th>accuracy</th>\n      <th>precision</th>\n      <th>recall</th>\n      <th>f1</th>\n    </tr>\n  </thead>\n  <tbody>\n    <tr>\n      <th>0</th>\n      <td>2.5</td>\n      <td>text</td>\n      <td>0.609091</td>\n      <td>0.539568</td>\n      <td>0.773196</td>\n      <td>0.635593</td>\n    </tr>\n    <tr>\n      <th>1</th>\n      <td>2.5</td>\n      <td>title</td>\n      <td>0.559091</td>\n      <td>0.500000</td>\n      <td>0.701031</td>\n      <td>0.583691</td>\n    </tr>\n    <tr>\n      <th>2</th>\n      <td>3</td>\n      <td>text</td>\n      <td>0.554545</td>\n      <td>0.496552</td>\n      <td>0.742268</td>\n      <td>0.595041</td>\n    </tr>\n    <tr>\n      <th>3</th>\n      <td>3</td>\n      <td>title</td>\n      <td>0.563636</td>\n      <td>0.503546</td>\n      <td>0.731959</td>\n      <td>0.596639</td>\n    </tr>\n  </tbody>\n</table>\n</div>"
     },
     "execution_count": 86,
     "metadata": {},
     "output_type": "execute_result"
    }
   ],
   "source": [
    "from sklearn.metrics import accuracy_score, precision_score, recall_score, f1_score\n",
    "\n",
    "results = pd.DataFrame(columns=['cutoff', 'text_type', 'accuracy', 'precision', 'recall', 'f1'])\n",
    "files = [f for f in os.listdir('results/full_train') if f.endswith('.json')]\n",
    "for i, file in enumerate(files):\n",
    "    cutoff = file.split('cutoff')[1].split('_text')[0]\n",
    "    text = file.split('_text')[1].split('.json')[0]\n",
    "\n",
    "    with open (os.path.join('results', 'full_train', file), 'r') as f:\n",
    "        params = json.load(f)\n",
    "    labels = params['labels']\n",
    "    preds = params['preds']\n",
    "\n",
    "    acc = accuracy_score(labels, preds)\n",
    "    precision = precision_score(labels, preds)\n",
    "    recall = recall_score(labels, preds)\n",
    "    f1 = f1_score(labels, preds)\n",
    "\n",
    "    results.loc[i] = [cutoff, text, acc, precision, recall, f1]\n",
    "\n",
    "results.sort_values(by=['cutoff', 'text_type'])"
   ],
   "metadata": {
    "collapsed": false,
    "pycharm": {
     "name": "#%%\n"
    }
   }
  },
  {
   "cell_type": "code",
   "execution_count": 86,
   "outputs": [],
   "source": [],
   "metadata": {
    "collapsed": false,
    "pycharm": {
     "name": "#%%\n"
    }
   }
  }
 ],
 "metadata": {
  "kernelspec": {
   "display_name": "Python 3",
   "language": "python",
   "name": "python3"
  },
  "language_info": {
   "codemirror_mode": {
    "name": "ipython",
    "version": 2
   },
   "file_extension": ".py",
   "mimetype": "text/x-python",
   "name": "python",
   "nbconvert_exporter": "python",
   "pygments_lexer": "ipython2",
   "version": "2.7.6"
  }
 },
 "nbformat": 4,
 "nbformat_minor": 0
}